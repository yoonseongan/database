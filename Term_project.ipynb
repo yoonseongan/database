{
 "cells": [
  {
   "cell_type": "code",
   "execution_count": null,
   "metadata": {},
   "outputs": [],
   "source": [
    "import pymysql\n",
    "\n",
    "# MySQL 연결 설정\n",
    "def connect_to_db():\n",
    "    return pymysql.connect(\n",
    "        host=\"192.168.56.101\",  # MySQL 서버 IP\n",
    "        user=\"yoonseongahn\",   # MySQL 사용자 이름\n",
    "        password=\"1234\",       # MySQL 사용자 비밀번호\n",
    "        database=\"StudentClub\",     # 데이터베이스 이름\n",
    "        port=4567,             # MySQL 포트\n",
    "        charset=\"utf8mb4\",\n",
    "        cursorclass=pymysql.cursors.DictCursor,\n",
    "    )"
   ]
  },
  {
   "cell_type": "code",
   "execution_count": null,
   "metadata": {},
   "outputs": [],
   "source": []
  }
 ],
 "metadata": {
  "kernelspec": {
   "display_name": "Python 3",
   "language": "python",
   "name": "python3"
  },
  "language_info": {
   "codemirror_mode": {
    "name": "ipython",
    "version": 3
   },
   "file_extension": ".py",
   "mimetype": "text/x-python",
   "name": "python",
   "nbconvert_exporter": "python",
   "pygments_lexer": "ipython3",
   "version": "3.8.5"
  }
 },
 "nbformat": 4,
 "nbformat_minor": 2
}
