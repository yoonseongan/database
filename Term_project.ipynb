{
 "cells": [
  {
   "cell_type": "code",
   "execution_count": null,
   "metadata": {
    "vscode": {
     "languageId": "plaintext"
    }
   },
   "outputs": [],
   "source": [
    "import pymysql\n",
    "\n",
    "# MySQL 연결 설정\n",
    "def connect_to_db():\n",
    "    return pymysql.connect(\n",
    "        host=\"192.168.56.101\",  # MySQL 서버 IP\n",
    "        user=\"yoonseongahn\",   # MySQL 사용자 이름\n",
    "        password=\"1234\",       # MySQL 사용자 비밀번호\n",
    "        database=\"madang\",     # 데이터베이스 이름\n",
    "        port=4567,             # MySQL 포트\n",
    "        charset=\"utf8mb4\",\n",
    "        cursorclass=pymysql.cursors.DictCursor,\n",
    "    )"
   ]
  },
  {
   "cell_type": "code",
   "execution_count": null,
   "metadata": {
    "vscode": {
     "languageId": "plaintext"
    }
   },
   "outputs": [],
   "source": []
  }
 ],
 "metadata": {
  "language_info": {
   "name": "python"
  }
 },
 "nbformat": 4,
 "nbformat_minor": 2
}
